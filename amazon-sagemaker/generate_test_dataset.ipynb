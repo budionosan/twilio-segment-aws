{
 "cells": [
  {
   "cell_type": "code",
   "execution_count": 1,
   "id": "4b1b1610-bb42-4165-a8f7-0388eaffa81a",
   "metadata": {
    "tags": []
   },
   "outputs": [
    {
     "name": "stdout",
     "output_type": "stream",
     "text": [
      "Requirement already satisfied: pandas in /home/ec2-user/anaconda3/envs/python3/lib/python3.10/site-packages (2.1.3)\n",
      "Requirement already satisfied: numpy<2,>=1.22.4 in /home/ec2-user/anaconda3/envs/python3/lib/python3.10/site-packages (from pandas) (1.26.2)\n",
      "Requirement already satisfied: python-dateutil>=2.8.2 in /home/ec2-user/anaconda3/envs/python3/lib/python3.10/site-packages (from pandas) (2.8.2)\n",
      "Requirement already satisfied: pytz>=2020.1 in /home/ec2-user/anaconda3/envs/python3/lib/python3.10/site-packages (from pandas) (2023.3.post1)\n",
      "Requirement already satisfied: tzdata>=2022.1 in /home/ec2-user/anaconda3/envs/python3/lib/python3.10/site-packages (from pandas) (2023.3)\n",
      "Requirement already satisfied: six>=1.5 in /home/ec2-user/anaconda3/envs/python3/lib/python3.10/site-packages (from python-dateutil>=2.8.2->pandas) (1.16.0)\n",
      "Requirement already satisfied: numpy in /home/ec2-user/anaconda3/envs/python3/lib/python3.10/site-packages (1.26.2)\n"
     ]
    }
   ],
   "source": [
    "!pip install pandas --upgrade\n",
    "!pip install numpy --upgrade"
   ]
  },
  {
   "cell_type": "code",
   "execution_count": 3,
   "id": "15054bf2-ddca-463e-b547-4688f65393b4",
   "metadata": {
    "tags": []
   },
   "outputs": [
    {
     "name": "stdout",
     "output_type": "stream",
     "text": [
      "Successful\n"
     ]
    }
   ],
   "source": [
    "import pandas as pd\n",
    "import numpy as np\n",
    "import uuid\n",
    "import random\n",
    "import string\n",
    "\n",
    "np.random.seed(42)  # For reproducibility\n",
    "\n",
    "# Number of records in the dataset\n",
    "num_records = 900\n",
    "\n",
    "# Generate synthetic data for each variable\n",
    "loan_id = [uuid.uuid4().hex.upper()[0:9] for _ in range(900)]\n",
    "name = [(''.join(random.choices(string.ascii_lowercase, k=8))) for _ in range(900)]\n",
    "email = [(''.join(random.choices(string.ascii_lowercase, k=8)) + \"@example.com\") for _ in range(900)]\n",
    "phone_number = [(random.randint(10000000, 99999999)) for _ in range(900)]\n",
    "\n",
    "loan_amount = np.random.randint(100, 1000, size=num_records)\n",
    "loan_term = np.random.randint(1, 12, size=num_records)\n",
    "credit_score = np.random.randint(1, 5, size=num_records)\n",
    "income = np.random.randint(2000, 10000, size=num_records)\n",
    "employment_status = np.random.choice(['Employed', 'Unemployed', 'Self-employed'], size=num_records)\n",
    "purpose_loan = np.random.choice(['Debt Consolidation', 'Home Improvement', 'Education', 'Small Business Funding', 'Investment'], size=num_records)\n",
    "property_ownership = np.random.choice(['Owned', 'Mortgaged', 'Rented'], size=num_records)\n",
    "\n",
    "# Create a DataFrame\n",
    "data = pd.DataFrame({\n",
    "    'loan_id': loan_id,\n",
    "    'name': name,\n",
    "    'email': email,\n",
    "    'phone_number': phone_number,\n",
    "    'loan_amount': loan_amount,\n",
    "    'loan_term': loan_term,\n",
    "    'credit_score': credit_score,\n",
    "    'income': income,\n",
    "    'employment_status': employment_status,\n",
    "    'purpose_loan': purpose_loan,\n",
    "    'property_ownership': property_ownership\n",
    "})\n",
    "\n",
    "# Save the dataset to a CSV file\n",
    "data.to_csv('test.csv', index=False)\n",
    "print(\"Successful\")"
   ]
  },
  {
   "cell_type": "code",
   "execution_count": null,
   "id": "f02ee2d5-df92-4dc2-9677-eada01a2dab8",
   "metadata": {},
   "outputs": [],
   "source": []
  }
 ],
 "metadata": {
  "kernelspec": {
   "display_name": "conda_python3",
   "language": "python",
   "name": "conda_python3"
  },
  "language_info": {
   "codemirror_mode": {
    "name": "ipython",
    "version": 3
   },
   "file_extension": ".py",
   "mimetype": "text/x-python",
   "name": "python",
   "nbconvert_exporter": "python",
   "pygments_lexer": "ipython3",
   "version": "3.10.13"
  }
 },
 "nbformat": 4,
 "nbformat_minor": 5
}
