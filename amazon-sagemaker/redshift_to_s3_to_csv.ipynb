{
 "cells": [
  {
   "cell_type": "code",
   "execution_count": 1,
   "id": "ee9c2fa4-3159-4615-a33b-0dc4d9dfccc9",
   "metadata": {
    "tags": []
   },
   "outputs": [
    {
     "name": "stderr",
     "output_type": "stream",
     "text": [
      "/home/ec2-user/anaconda3/envs/python3/lib/python3.10/site-packages/pandas/core/computation/expressions.py:21: UserWarning: Pandas requires version '2.8.0' or newer of 'numexpr' (version '2.7.3' currently installed).\n",
      "  from pandas.core.computation.check import NUMEXPR_INSTALLED\n",
      "/home/ec2-user/anaconda3/envs/python3/lib/python3.10/site-packages/fsspec/registry.py:272: UserWarning: Your installed version of s3fs is very old and known to cause\n",
      "severe performance issues, see also https://github.com/dask/dask/issues/10276\n",
      "\n",
      "To fix, you should specify a lower version bound on s3fs, or\n",
      "update the current installation.\n",
      "\n",
      "  warnings.warn(s3_msg)\n"
     ]
    },
    {
     "name": "stdout",
     "output_type": "stream",
     "text": [
      "       loan_id  loan_amount  loan_term  credit_score  income  \\\n",
      "0    BE37A1EDD          126          4             3    8230   \n",
      "1    1FB3A865E          472          7             4    3674   \n",
      "2    7BEFDE824          325          4             4    4148   \n",
      "3    2C962B05B          270          4             1    8396   \n",
      "4    D66ECCD53          618          8             1    9797   \n",
      "..         ...          ...        ...           ...     ...   \n",
      "895  0B0CBCD61          960          2             3    3653   \n",
      "896  D813CCE12          108          6             3    4442   \n",
      "897  52AFC44E9          175          3             2    2022   \n",
      "898  B65C4D387          435         10             2    8741   \n",
      "899  39F5671A4          550          2             3    6283   \n",
      "\n",
      "    employment_status            purpose_loan property_ownership  \\\n",
      "0          Unemployed      Debt Consolidation              Owned   \n",
      "1       Self-employed      Debt Consolidation             Rented   \n",
      "2       Self-employed              Investment              Owned   \n",
      "3       Self-employed        Home Improvement             Rented   \n",
      "4       Self-employed              Investment          Mortgaged   \n",
      "..                ...                     ...                ...   \n",
      "895        Unemployed               Education             Rented   \n",
      "896        Unemployed  Small Business Funding              Owned   \n",
      "897          Employed        Home Improvement              Owned   \n",
      "898          Employed        Home Improvement             Rented   \n",
      "899          Employed              Investment              Owned   \n",
      "\n",
      "     approval_status  \n",
      "0                  0  \n",
      "1                  0  \n",
      "2                  0  \n",
      "3                  0  \n",
      "4                  0  \n",
      "..               ...  \n",
      "895                1  \n",
      "896                1  \n",
      "897                0  \n",
      "898                0  \n",
      "899                1  \n",
      "\n",
      "[900 rows x 9 columns]\n",
      "Successful\n"
     ]
    }
   ],
   "source": [
    "import pandas as pd\n",
    "import boto3\n",
    "s3_client = boto3.client('s3')\n",
    "\n",
    "# Read CSV file from S3\n",
    "s3_path = 's3://datapalooza-budionosan/result_redshift_onlineloan_test/000'\n",
    "df = pd.read_csv(s3_path, header=None)\n",
    "\n",
    "# Assign default column names\n",
    "column_names = ['loan_id' , 'loan_amount', 'loan_term', 'credit_score', 'income', 'employment_status', 'purpose_loan', 'property_ownership', 'approval_status']\n",
    "df.columns = column_names\n",
    "\n",
    "# Display the DataFrame with column names\n",
    "print(df)\n",
    "\n",
    "df.to_csv(\"test_result.csv\",index=False)\n",
    "print(\"Successful\")"
   ]
  },
  {
   "cell_type": "code",
   "execution_count": 2,
   "id": "827bdf12-ba07-4c7d-a7e3-aa3e986c8c3a",
   "metadata": {
    "tags": []
   },
   "outputs": [
    {
     "name": "stdout",
     "output_type": "stream",
     "text": [
      "      loan_id  loan_amount  loan_term  credit_score  income employment_status  \\\n",
      "0   4CA100E6E          157         11             3    3641        Unemployed   \n",
      "1   BC37EAC3A          739         10             2    6837          Employed   \n",
      "2   601B72E44          853          1             3    3619        Unemployed   \n",
      "3   DC9A62152          521          5             4    9394          Employed   \n",
      "4   D813CCE12          108          6             3    4442        Unemployed   \n",
      "..        ...          ...        ...           ...     ...               ...   \n",
      "85  6A010F403          927          9             4    2769          Employed   \n",
      "86  D629517D4          169          9             2    8886          Employed   \n",
      "87  A9F518A19          921          1             3    7519     Self-employed   \n",
      "88  A16E01522          277          3             2    3938        Unemployed   \n",
      "89  C6736FAF6          497         11             3    4171          Employed   \n",
      "\n",
      "              purpose_loan property_ownership  approval_status  \\\n",
      "0         Home Improvement             Rented                1   \n",
      "1   Small Business Funding          Mortgaged                1   \n",
      "2   Small Business Funding             Rented                1   \n",
      "3               Investment              Owned                1   \n",
      "4   Small Business Funding              Owned                1   \n",
      "..                     ...                ...              ...   \n",
      "85        Home Improvement          Mortgaged                1   \n",
      "86      Debt Consolidation             Rented                1   \n",
      "87              Investment          Mortgaged                1   \n",
      "88      Debt Consolidation              Owned                1   \n",
      "89      Debt Consolidation             Rented                1   \n",
      "\n",
      "    loanplusinterest  \n",
      "0              172.7  \n",
      "1              812.9  \n",
      "2              938.3  \n",
      "3              573.1  \n",
      "4              118.8  \n",
      "..               ...  \n",
      "85            1019.7  \n",
      "86             185.9  \n",
      "87            1013.1  \n",
      "88             304.7  \n",
      "89             546.7  \n",
      "\n",
      "[90 rows x 10 columns]\n",
      "Successful\n"
     ]
    }
   ],
   "source": [
    "import pandas as pd\n",
    "import boto3\n",
    "s3_client = boto3.client('s3')\n",
    "\n",
    "# Read CSV file from S3\n",
    "s3_path_10 = 's3://datapalooza-budionosan/result_redshift_onlineloan_test_10/000'\n",
    "df_10 = pd.read_csv(s3_path_10, header=None)\n",
    "\n",
    "# Assign default column names\n",
    "column_names = ['loan_id' , 'loan_amount', 'loan_term', 'credit_score', 'income', 'employment_status', 'purpose_loan', 'property_ownership', 'approval_status', 'loanplusinterest']\n",
    "df_10.columns = column_names\n",
    "\n",
    "# Display the DataFrame with column names\n",
    "print(df_10)\n",
    "\n",
    "df_10.to_csv(\"test_result_10.csv\",index=False)\n",
    "print(\"Successful\")"
   ]
  },
  {
   "cell_type": "code",
   "execution_count": null,
   "id": "c7c8521d-b56f-4c1b-9d6c-4a0cf2384d73",
   "metadata": {},
   "outputs": [],
   "source": []
  }
 ],
 "metadata": {
  "kernelspec": {
   "display_name": "conda_python3",
   "language": "python",
   "name": "conda_python3"
  },
  "language_info": {
   "codemirror_mode": {
    "name": "ipython",
    "version": 3
   },
   "file_extension": ".py",
   "mimetype": "text/x-python",
   "name": "python",
   "nbconvert_exporter": "python",
   "pygments_lexer": "ipython3",
   "version": "3.10.13"
  }
 },
 "nbformat": 4,
 "nbformat_minor": 5
}
