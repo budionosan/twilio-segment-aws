{
 "cells": [
  {
   "cell_type": "code",
   "execution_count": 1,
   "id": "b0aca852-d0d7-4194-abb1-6ce44cc4cd41",
   "metadata": {
    "tags": []
   },
   "outputs": [
    {
     "name": "stdout",
     "output_type": "stream",
     "text": [
      "Collecting segment-analytics-python\n",
      "  Downloading segment_analytics_python-2.2.3-py2.py3-none-any.whl.metadata (1.6 kB)\n",
      "Requirement already satisfied: requests~=2.7 in /home/ec2-user/anaconda3/envs/python3/lib/python3.10/site-packages (from segment-analytics-python) (2.31.0)\n",
      "Collecting monotonic~=1.5 (from segment-analytics-python)\n",
      "  Downloading monotonic-1.6-py2.py3-none-any.whl (8.2 kB)\n",
      "Collecting backoff~=2.1 (from segment-analytics-python)\n",
      "  Downloading backoff-2.2.1-py3-none-any.whl (15 kB)\n",
      "Requirement already satisfied: python-dateutil~=2.2 in /home/ec2-user/anaconda3/envs/python3/lib/python3.10/site-packages (from segment-analytics-python) (2.8.2)\n",
      "Requirement already satisfied: six>=1.5 in /home/ec2-user/anaconda3/envs/python3/lib/python3.10/site-packages (from python-dateutil~=2.2->segment-analytics-python) (1.16.0)\n",
      "Requirement already satisfied: charset-normalizer<4,>=2 in /home/ec2-user/anaconda3/envs/python3/lib/python3.10/site-packages (from requests~=2.7->segment-analytics-python) (3.3.1)\n",
      "Requirement already satisfied: idna<4,>=2.5 in /home/ec2-user/anaconda3/envs/python3/lib/python3.10/site-packages (from requests~=2.7->segment-analytics-python) (3.4)\n",
      "Requirement already satisfied: urllib3<3,>=1.21.1 in /home/ec2-user/anaconda3/envs/python3/lib/python3.10/site-packages (from requests~=2.7->segment-analytics-python) (1.26.18)\n",
      "Requirement already satisfied: certifi>=2017.4.17 in /home/ec2-user/anaconda3/envs/python3/lib/python3.10/site-packages (from requests~=2.7->segment-analytics-python) (2023.7.22)\n",
      "Downloading segment_analytics_python-2.2.3-py2.py3-none-any.whl (24 kB)\n",
      "Installing collected packages: monotonic, backoff, segment-analytics-python\n",
      "Successfully installed backoff-2.2.1 monotonic-1.6 segment-analytics-python-2.2.3\n"
     ]
    }
   ],
   "source": [
    "#Install Twilio Segment Python\n",
    "!pip install segment-analytics-python"
   ]
  },
  {
   "cell_type": "code",
   "execution_count": 2,
   "id": "fd6255d2-d44e-4065-bdd4-879d16ea4cb3",
   "metadata": {
    "tags": []
   },
   "outputs": [],
   "source": [
    "#Import Twilio Segment Python\n",
    "import segment.analytics as analytics\n",
    "\n",
    "analytics.write_key = 'SreqCpVJLEKNvSy7VLG3vQpfB7ExSSSB'"
   ]
  },
  {
   "cell_type": "code",
   "execution_count": 3,
   "id": "c9de209f-7f09-499b-9cfd-67628d3f23f5",
   "metadata": {
    "tags": []
   },
   "outputs": [
    {
     "name": "stdout",
     "output_type": "stream",
     "text": [
      "Successful\n"
     ]
    }
   ],
   "source": [
    "#Using test_result.csv - get approval status based data test.csv\n",
    "#Send data test_result.csv to Twilio Segment\n",
    "import csv\n",
    "file_path = 'test_result.csv'\n",
    "\n",
    "# Open the CSV file and read the data\n",
    "with open(file_path, newline='') as csvfile:\n",
    "    reader = csv.DictReader(csvfile)\n",
    "\n",
    "    # Iterate through each row in the CSV file\n",
    "    for row in reader:\n",
    "        # Extract data from the current row\n",
    "        loan_id = row['loan_id']\n",
    "        loan_amount = int(row['loan_amount'])\n",
    "        loan_term = int(row['loan_term'])\n",
    "        credit_score = int(row['credit_score'])\n",
    "        income = int(row['income'])\n",
    "        employment_status = row['employment_status']\n",
    "        purpose_loan = row['purpose_loan']\n",
    "        property_ownership = row['property_ownership']\n",
    "        approval_status = int(row['approval_status'])\n",
    "\n",
    "        analytics.track(loan_id, 'Get Approved Loan Notification', {\n",
    "            'loan_id': loan_id,\n",
    "            'loan_amount': loan_amount,\n",
    "            'loan_term': loan_term,\n",
    "            'credit_score': credit_score,\n",
    "            'income': income,\n",
    "            'employment_status': employment_status,\n",
    "            'purpose_loan': purpose_loan,\n",
    "            'property_ownership': property_ownership,\n",
    "            'approval_status': approval_status\n",
    "        })\n",
    "\n",
    "print(\"Successful\")"
   ]
  },
  {
   "cell_type": "code",
   "execution_count": 5,
   "id": "01918c34-c35e-4db7-9f97-e5bee2f0cf5e",
   "metadata": {},
   "outputs": [
    {
     "name": "stdout",
     "output_type": "stream",
     "text": [
      "Successful\n"
     ]
    }
   ],
   "source": [
    "#Using test_result_10.csv - 10% borrower pay loan + interest\n",
    "#Send data test_result_10.csv to Twilio Segment\n",
    "import csv\n",
    "file_path_10 = 'test_result_10.csv'\n",
    "\n",
    "# Open the CSV file and read the data\n",
    "with open(file_path_10, newline='') as csvfile:\n",
    "    reader = csv.DictReader(csvfile)\n",
    "\n",
    "    # Iterate through each row in the CSV file\n",
    "    for row in reader:\n",
    "        # Extract data from the current row\n",
    "        loan_id = row['loan_id']\n",
    "        loan_amount = int(row['loan_amount'])\n",
    "        loan_term = int(row['loan_term'])\n",
    "        credit_score = int(row['credit_score'])\n",
    "        income = int(row['income'])\n",
    "        employment_status = row['employment_status']\n",
    "        purpose_loan = row['purpose_loan']\n",
    "        property_ownership = row['property_ownership']\n",
    "        approval_status = int(row['approval_status'])\n",
    "        loanplusinterest = int(row['loanplusinterest'])\n",
    "\n",
    "        analytics.track(loan_id, 'Pay Loan and Interest', {\n",
    "            'loan_id': loan_id,\n",
    "            'loan_amount': loan_amount,\n",
    "            'loan_term': loan_term,\n",
    "            'credit_score': credit_score,\n",
    "            'income': income,\n",
    "            'employment_status': employment_status,\n",
    "            'purpose_loan': purpose_loan,\n",
    "            'property_ownership': property_ownership,\n",
    "            'approval_status': approval_status,\n",
    "            'loanplusinterest': loanplusinterest\n",
    "        })\n",
    "\n",
    "print(\"Successful\")"
   ]
  },
  {
   "cell_type": "code",
   "execution_count": null,
   "id": "77a4bef0-879a-49be-93ed-4358e0713551",
   "metadata": {},
   "outputs": [],
   "source": []
  }
 ],
 "metadata": {
  "kernelspec": {
   "display_name": "conda_python3",
   "language": "python",
   "name": "conda_python3"
  },
  "language_info": {
   "codemirror_mode": {
    "name": "ipython",
    "version": 3
   },
   "file_extension": ".py",
   "mimetype": "text/x-python",
   "name": "python",
   "nbconvert_exporter": "python",
   "pygments_lexer": "ipython3",
   "version": "3.10.13"
  }
 },
 "nbformat": 4,
 "nbformat_minor": 5
}
