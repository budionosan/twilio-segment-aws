{
 "cells": [
  {
   "cell_type": "code",
   "execution_count": 1,
   "id": "47966d16-97a7-4241-a99f-34bb611ab921",
   "metadata": {
    "tags": []
   },
   "outputs": [
    {
     "name": "stdout",
     "output_type": "stream",
     "text": [
      "Collecting segment-analytics-python\n",
      "  Downloading segment_analytics_python-2.2.3-py2.py3-none-any.whl.metadata (1.6 kB)\n",
      "Requirement already satisfied: requests~=2.7 in /home/ec2-user/anaconda3/envs/python3/lib/python3.10/site-packages (from segment-analytics-python) (2.31.0)\n",
      "Collecting monotonic~=1.5 (from segment-analytics-python)\n",
      "  Downloading monotonic-1.6-py2.py3-none-any.whl (8.2 kB)\n",
      "Collecting backoff~=2.1 (from segment-analytics-python)\n",
      "  Downloading backoff-2.2.1-py3-none-any.whl (15 kB)\n",
      "Requirement already satisfied: python-dateutil~=2.2 in /home/ec2-user/anaconda3/envs/python3/lib/python3.10/site-packages (from segment-analytics-python) (2.8.2)\n",
      "Requirement already satisfied: six>=1.5 in /home/ec2-user/anaconda3/envs/python3/lib/python3.10/site-packages (from python-dateutil~=2.2->segment-analytics-python) (1.16.0)\n",
      "Requirement already satisfied: charset-normalizer<4,>=2 in /home/ec2-user/anaconda3/envs/python3/lib/python3.10/site-packages (from requests~=2.7->segment-analytics-python) (3.3.1)\n",
      "Requirement already satisfied: idna<4,>=2.5 in /home/ec2-user/anaconda3/envs/python3/lib/python3.10/site-packages (from requests~=2.7->segment-analytics-python) (3.4)\n",
      "Requirement already satisfied: urllib3<3,>=1.21.1 in /home/ec2-user/anaconda3/envs/python3/lib/python3.10/site-packages (from requests~=2.7->segment-analytics-python) (1.26.18)\n",
      "Requirement already satisfied: certifi>=2017.4.17 in /home/ec2-user/anaconda3/envs/python3/lib/python3.10/site-packages (from requests~=2.7->segment-analytics-python) (2023.7.22)\n",
      "Downloading segment_analytics_python-2.2.3-py2.py3-none-any.whl (24 kB)\n",
      "Installing collected packages: monotonic, backoff, segment-analytics-python\n",
      "Successfully installed backoff-2.2.1 monotonic-1.6 segment-analytics-python-2.2.3\n"
     ]
    }
   ],
   "source": [
    "#Install Twilio Segment Python\n",
    "!pip install segment-analytics-python"
   ]
  },
  {
   "cell_type": "code",
   "execution_count": 2,
   "id": "f9abb930-d91c-4a30-acfd-400df46b1a66",
   "metadata": {
    "tags": []
   },
   "outputs": [],
   "source": [
    "#Import Twilio Segment Python\n",
    "import segment.analytics as analytics\n",
    "\n",
    "analytics.write_key = 'SreqCpVJLEKNvSy7VLG3vQpfB7ExSSSB'"
   ]
  },
  {
   "cell_type": "code",
   "execution_count": 3,
   "id": "809108c7-49e2-4c1d-815e-98105bf48bf5",
   "metadata": {
    "tags": []
   },
   "outputs": [
    {
     "name": "stdout",
     "output_type": "stream",
     "text": [
      "Successful\n"
     ]
    }
   ],
   "source": [
    "#Using test.csv\n",
    "#Send data test.csv to Twilio Segment\n",
    "import csv\n",
    "file_path = 'test.csv'\n",
    "\n",
    "# Open the CSV file and read the data\n",
    "with open(file_path, newline='') as csvfile:\n",
    "    reader = csv.DictReader(csvfile)\n",
    "\n",
    "    # Iterate through each row in the CSV file\n",
    "    for row in reader:\n",
    "        # Extract data from the current row\n",
    "        loan_id = row['loan_id']\n",
    "        name = row['name']\n",
    "        email = row['email']\n",
    "        phone_number = int(row['phone_number'])\n",
    "        loan_amount = int(row['loan_amount'])\n",
    "        loan_term = int(row['loan_term'])\n",
    "        credit_score = int(row['credit_score'])\n",
    "        income = int(row['income'])\n",
    "        employment_status = row['employment_status']\n",
    "        purpose_loan = row['purpose_loan']\n",
    "        property_ownership = row['property_ownership']\n",
    "\n",
    "        # Use the extracted data to call the analytics.identify function\n",
    "        analytics.identify(loan_id, {\n",
    "            'name': name,\n",
    "            'email': email,\n",
    "            'phone_number': phone_number\n",
    "        })\n",
    "\n",
    "        # Use the extracted data to call the analytics.track function\n",
    "        analytics.track(loan_id, 'Sign Up Account', {\n",
    "            'name': name,\n",
    "            'email': email,\n",
    "            'phone_number': phone_number\n",
    "        })\n",
    "\n",
    "        analytics.track(loan_id, 'Send Loan Proposal', {\n",
    "            'loan_id': loan_id,\n",
    "            'name': name,\n",
    "            'loan_amount': loan_amount,\n",
    "            'loan_term': loan_term,\n",
    "            'credit_score': credit_score,\n",
    "            'income': income,\n",
    "            'employment_status': employment_status,\n",
    "            'purpose_loan': purpose_loan,\n",
    "            'property_ownership': property_ownership\n",
    "        })\n",
    "\n",
    "print(\"Successful\")"
   ]
  },
  {
   "cell_type": "code",
   "execution_count": null,
   "id": "a6ed6925-19f4-4ed0-91a2-488d6cfd785a",
   "metadata": {},
   "outputs": [],
   "source": []
  }
 ],
 "metadata": {
  "kernelspec": {
   "display_name": "conda_python3",
   "language": "python",
   "name": "conda_python3"
  },
  "language_info": {
   "codemirror_mode": {
    "name": "ipython",
    "version": 3
   },
   "file_extension": ".py",
   "mimetype": "text/x-python",
   "name": "python",
   "nbconvert_exporter": "python",
   "pygments_lexer": "ipython3",
   "version": "3.10.13"
  }
 },
 "nbformat": 4,
 "nbformat_minor": 5
}
